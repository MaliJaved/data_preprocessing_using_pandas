{
 "cells": [
  {
   "cell_type": "markdown",
   "id": "617f6095",
   "metadata": {},
   "source": [
    "# <center> World Happiness Data Preprocessing Project"
   ]
  },
  {
   "cell_type": "markdown",
   "id": "f94ce4e4",
   "metadata": {},
   "source": [
    "## 1. Importing Libraries"
   ]
  },
  {
   "cell_type": "code",
   "execution_count": 1,
   "id": "725d3d0a",
   "metadata": {},
   "outputs": [],
   "source": [
    "import pandas as pd\n",
    "import numpy as np\n",
    "import matplotlib.pyplot as plt\n",
    "import seaborn as sns"
   ]
  },
  {
   "cell_type": "markdown",
   "id": "58737a99",
   "metadata": {},
   "source": [
    "## 2. Importing Source Datasets"
   ]
  },
  {
   "cell_type": "code",
   "execution_count": 2,
   "id": "e6ee7ba9",
   "metadata": {},
   "outputs": [],
   "source": [
    "wh15 = pd.read_csv('wh_2015.csv')\n",
    "wh16 = pd.read_csv('wh_2016.csv')\n",
    "wh17 = pd.read_csv('wh_2017.csv')"
   ]
  },
  {
   "cell_type": "markdown",
   "id": "22c6debb",
   "metadata": {},
   "source": [
    "## 3. Combining Datasets"
   ]
  },
  {
   "cell_type": "code",
   "execution_count": 3,
   "id": "2ee079dc",
   "metadata": {},
   "outputs": [],
   "source": [
    "df = pd.concat([wh15 , wh16 , wh17] , ignore_index = True)"
   ]
  },
  {
   "cell_type": "code",
   "execution_count": 4,
   "id": "0cd48d8c",
   "metadata": {},
   "outputs": [
    {
     "data": {
      "text/html": [
       "<div>\n",
       "<style scoped>\n",
       "    .dataframe tbody tr th:only-of-type {\n",
       "        vertical-align: middle;\n",
       "    }\n",
       "\n",
       "    .dataframe tbody tr th {\n",
       "        vertical-align: top;\n",
       "    }\n",
       "\n",
       "    .dataframe thead th {\n",
       "        text-align: right;\n",
       "    }\n",
       "</style>\n",
       "<table border=\"1\" class=\"dataframe\">\n",
       "  <thead>\n",
       "    <tr style=\"text-align: right;\">\n",
       "      <th></th>\n",
       "      <th>Country</th>\n",
       "      <th>Region</th>\n",
       "      <th>Happiness Rank</th>\n",
       "      <th>Happiness Score</th>\n",
       "      <th>Standard Error</th>\n",
       "      <th>Economy (GDP per Capita)</th>\n",
       "      <th>Family</th>\n",
       "      <th>Health (Life Expectancy)</th>\n",
       "      <th>Freedom</th>\n",
       "      <th>Trust (Government Corruption)</th>\n",
       "      <th>Generosity</th>\n",
       "      <th>Dystopia Residual</th>\n",
       "      <th>Year</th>\n",
       "      <th>Lower Confidence Interval</th>\n",
       "      <th>Upper Confidence Interval</th>\n",
       "      <th>Whisker high</th>\n",
       "      <th>Whisker low</th>\n",
       "    </tr>\n",
       "  </thead>\n",
       "  <tbody>\n",
       "    <tr>\n",
       "      <th>0</th>\n",
       "      <td>Switzerland</td>\n",
       "      <td>Western Europe</td>\n",
       "      <td>1</td>\n",
       "      <td>7.587</td>\n",
       "      <td>0.03411</td>\n",
       "      <td>1.39651</td>\n",
       "      <td>1.34951</td>\n",
       "      <td>0.94143</td>\n",
       "      <td>0.66557</td>\n",
       "      <td>0.41978</td>\n",
       "      <td>0.29678</td>\n",
       "      <td>2.51738</td>\n",
       "      <td>2015</td>\n",
       "      <td>NaN</td>\n",
       "      <td>NaN</td>\n",
       "      <td>NaN</td>\n",
       "      <td>NaN</td>\n",
       "    </tr>\n",
       "    <tr>\n",
       "      <th>1</th>\n",
       "      <td>Iceland</td>\n",
       "      <td>Western Europe</td>\n",
       "      <td>2</td>\n",
       "      <td>7.561</td>\n",
       "      <td>0.04884</td>\n",
       "      <td>1.30232</td>\n",
       "      <td>1.40223</td>\n",
       "      <td>0.94784</td>\n",
       "      <td>0.62877</td>\n",
       "      <td>0.14145</td>\n",
       "      <td>0.43630</td>\n",
       "      <td>2.70201</td>\n",
       "      <td>2015</td>\n",
       "      <td>NaN</td>\n",
       "      <td>NaN</td>\n",
       "      <td>NaN</td>\n",
       "      <td>NaN</td>\n",
       "    </tr>\n",
       "    <tr>\n",
       "      <th>2</th>\n",
       "      <td>Denmark</td>\n",
       "      <td>Western Europe</td>\n",
       "      <td>3</td>\n",
       "      <td>7.527</td>\n",
       "      <td>0.03328</td>\n",
       "      <td>1.32548</td>\n",
       "      <td>1.36058</td>\n",
       "      <td>0.87464</td>\n",
       "      <td>0.64938</td>\n",
       "      <td>0.48357</td>\n",
       "      <td>0.34139</td>\n",
       "      <td>2.49204</td>\n",
       "      <td>2015</td>\n",
       "      <td>NaN</td>\n",
       "      <td>NaN</td>\n",
       "      <td>NaN</td>\n",
       "      <td>NaN</td>\n",
       "    </tr>\n",
       "    <tr>\n",
       "      <th>3</th>\n",
       "      <td>Norway</td>\n",
       "      <td>Western Europe</td>\n",
       "      <td>4</td>\n",
       "      <td>7.522</td>\n",
       "      <td>0.03880</td>\n",
       "      <td>1.45900</td>\n",
       "      <td>1.33095</td>\n",
       "      <td>0.88521</td>\n",
       "      <td>0.66973</td>\n",
       "      <td>0.36503</td>\n",
       "      <td>0.34699</td>\n",
       "      <td>2.46531</td>\n",
       "      <td>2015</td>\n",
       "      <td>NaN</td>\n",
       "      <td>NaN</td>\n",
       "      <td>NaN</td>\n",
       "      <td>NaN</td>\n",
       "    </tr>\n",
       "    <tr>\n",
       "      <th>4</th>\n",
       "      <td>Canada</td>\n",
       "      <td>North America</td>\n",
       "      <td>5</td>\n",
       "      <td>7.427</td>\n",
       "      <td>0.03553</td>\n",
       "      <td>1.32629</td>\n",
       "      <td>1.32261</td>\n",
       "      <td>0.90563</td>\n",
       "      <td>0.63297</td>\n",
       "      <td>0.32957</td>\n",
       "      <td>0.45811</td>\n",
       "      <td>2.45176</td>\n",
       "      <td>2015</td>\n",
       "      <td>NaN</td>\n",
       "      <td>NaN</td>\n",
       "      <td>NaN</td>\n",
       "      <td>NaN</td>\n",
       "    </tr>\n",
       "  </tbody>\n",
       "</table>\n",
       "</div>"
      ],
      "text/plain": [
       "       Country          Region  Happiness Rank  Happiness Score  \\\n",
       "0  Switzerland  Western Europe               1            7.587   \n",
       "1      Iceland  Western Europe               2            7.561   \n",
       "2      Denmark  Western Europe               3            7.527   \n",
       "3       Norway  Western Europe               4            7.522   \n",
       "4       Canada   North America               5            7.427   \n",
       "\n",
       "   Standard Error  Economy (GDP per Capita)   Family  \\\n",
       "0         0.03411                   1.39651  1.34951   \n",
       "1         0.04884                   1.30232  1.40223   \n",
       "2         0.03328                   1.32548  1.36058   \n",
       "3         0.03880                   1.45900  1.33095   \n",
       "4         0.03553                   1.32629  1.32261   \n",
       "\n",
       "   Health (Life Expectancy)  Freedom  Trust (Government Corruption)  \\\n",
       "0                   0.94143  0.66557                        0.41978   \n",
       "1                   0.94784  0.62877                        0.14145   \n",
       "2                   0.87464  0.64938                        0.48357   \n",
       "3                   0.88521  0.66973                        0.36503   \n",
       "4                   0.90563  0.63297                        0.32957   \n",
       "\n",
       "   Generosity  Dystopia Residual  Year  Lower Confidence Interval  \\\n",
       "0     0.29678            2.51738  2015                        NaN   \n",
       "1     0.43630            2.70201  2015                        NaN   \n",
       "2     0.34139            2.49204  2015                        NaN   \n",
       "3     0.34699            2.46531  2015                        NaN   \n",
       "4     0.45811            2.45176  2015                        NaN   \n",
       "\n",
       "   Upper Confidence Interval  Whisker high  Whisker low  \n",
       "0                        NaN           NaN          NaN  \n",
       "1                        NaN           NaN          NaN  \n",
       "2                        NaN           NaN          NaN  \n",
       "3                        NaN           NaN          NaN  \n",
       "4                        NaN           NaN          NaN  "
      ]
     },
     "execution_count": 4,
     "metadata": {},
     "output_type": "execute_result"
    }
   ],
   "source": [
    "df.head()"
   ]
  },
  {
   "cell_type": "markdown",
   "id": "ce347560",
   "metadata": {},
   "source": [
    "## 4. Dimensions of the Dataset"
   ]
  },
  {
   "cell_type": "code",
   "execution_count": 5,
   "id": "b1ce87dd",
   "metadata": {},
   "outputs": [
    {
     "name": "stdout",
     "output_type": "stream",
     "text": [
      "Number of rows: 468\n",
      "Number of columns: 17\n"
     ]
    }
   ],
   "source": [
    "print('Number of rows:' ,df.shape[0])\n",
    "print('Number of columns:', df.shape[1])"
   ]
  },
  {
   "cell_type": "markdown",
   "id": "f2edd3c7",
   "metadata": {},
   "source": [
    "## 5. Data types, Memory Usage , Null\\Non-null Values"
   ]
  },
  {
   "cell_type": "code",
   "execution_count": 6,
   "id": "77f3ecc1",
   "metadata": {},
   "outputs": [
    {
     "name": "stdout",
     "output_type": "stream",
     "text": [
      "<class 'pandas.core.frame.DataFrame'>\n",
      "RangeIndex: 468 entries, 0 to 467\n",
      "Data columns (total 17 columns):\n",
      " #   Column                         Non-Null Count  Dtype  \n",
      "---  ------                         --------------  -----  \n",
      " 0   Country                        463 non-null    object \n",
      " 1   Region                         316 non-null    object \n",
      " 2   Happiness Rank                 468 non-null    int64  \n",
      " 3   Happiness Score                468 non-null    float64\n",
      " 4   Standard Error                 158 non-null    float64\n",
      " 5   Economy (GDP per Capita)       468 non-null    float64\n",
      " 6   Family                         419 non-null    float64\n",
      " 7   Health (Life Expectancy)       468 non-null    float64\n",
      " 8   Freedom                        468 non-null    float64\n",
      " 9   Trust (Government Corruption)  468 non-null    float64\n",
      " 10  Generosity                     468 non-null    float64\n",
      " 11  Dystopia Residual              468 non-null    float64\n",
      " 12  Year                           468 non-null    int64  \n",
      " 13  Lower Confidence Interval      158 non-null    float64\n",
      " 14  Upper Confidence Interval      158 non-null    float64\n",
      " 15  Whisker high                   152 non-null    float64\n",
      " 16  Whisker low                    152 non-null    float64\n",
      "dtypes: float64(13), int64(2), object(2)\n",
      "memory usage: 62.3+ KB\n"
     ]
    }
   ],
   "source": [
    "df.info()"
   ]
  },
  {
   "cell_type": "markdown",
   "id": "1d2d89d0",
   "metadata": {},
   "source": [
    "`We can see that this method prints information of all columns. Several columns contain missing values. Either we have to drop them or replaced with a suitable test statistic.Lets investigate!`"
   ]
  },
  {
   "cell_type": "markdown",
   "id": "a4c042d3",
   "metadata": {},
   "source": [
    "## 6. Handling Duplicates"
   ]
  },
  {
   "cell_type": "code",
   "execution_count": 7,
   "id": "bb575d27",
   "metadata": {},
   "outputs": [
    {
     "name": "stdout",
     "output_type": "stream",
     "text": [
      "Is there any duplicate value? False\n"
     ]
    }
   ],
   "source": [
    "print('Is there any duplicate value?' , df.duplicated(subset = ['Country' , ('Year')]).any())"
   ]
  },
  {
   "cell_type": "markdown",
   "id": "1cfd4f53",
   "metadata": {},
   "source": [
    "`Country name can be written like (nORWAY , NORWAY) to rectify this type of problem, we need to capitalize 'country' column`"
   ]
  },
  {
   "cell_type": "code",
   "execution_count": 8,
   "id": "686206e8",
   "metadata": {},
   "outputs": [
    {
     "data": {
      "text/plain": [
       "0      SWITZERLAND\n",
       "1          ICELAND\n",
       "2          DENMARK\n",
       "3           NORWAY\n",
       "4           CANADA\n",
       "          ...     \n",
       "463        LIBERIA\n",
       "464         GUINEA\n",
       "465           TOGO\n",
       "466         RWANDA\n",
       "467          SYRIA\n",
       "Name: Country, Length: 468, dtype: object"
      ]
     },
     "execution_count": 8,
     "metadata": {},
     "output_type": "execute_result"
    }
   ],
   "source": [
    "df['Country'] = df['Country'].str.upper()\n",
    "df['Country']"
   ]
  },
  {
   "cell_type": "code",
   "execution_count": 9,
   "id": "385ca573",
   "metadata": {},
   "outputs": [
    {
     "name": "stdout",
     "output_type": "stream",
     "text": [
      "Is there any duplicate value? True\n"
     ]
    }
   ],
   "source": [
    "print('Is there any duplicate value?' , df.duplicated(subset = ['Country' , ('Year')]).any())"
   ]
  },
  {
   "cell_type": "code",
   "execution_count": 10,
   "id": "7da74ded",
   "metadata": {},
   "outputs": [
    {
     "data": {
      "text/html": [
       "<div>\n",
       "<style scoped>\n",
       "    .dataframe tbody tr th:only-of-type {\n",
       "        vertical-align: middle;\n",
       "    }\n",
       "\n",
       "    .dataframe tbody tr th {\n",
       "        vertical-align: top;\n",
       "    }\n",
       "\n",
       "    .dataframe thead th {\n",
       "        text-align: right;\n",
       "    }\n",
       "</style>\n",
       "<table border=\"1\" class=\"dataframe\">\n",
       "  <thead>\n",
       "    <tr style=\"text-align: right;\">\n",
       "      <th></th>\n",
       "      <th>Country</th>\n",
       "      <th>Region</th>\n",
       "      <th>Happiness Rank</th>\n",
       "      <th>Happiness Score</th>\n",
       "      <th>Standard Error</th>\n",
       "      <th>Economy (GDP per Capita)</th>\n",
       "      <th>Family</th>\n",
       "      <th>Health (Life Expectancy)</th>\n",
       "      <th>Freedom</th>\n",
       "      <th>Trust (Government Corruption)</th>\n",
       "      <th>Generosity</th>\n",
       "      <th>Dystopia Residual</th>\n",
       "      <th>Year</th>\n",
       "      <th>Lower Confidence Interval</th>\n",
       "      <th>Upper Confidence Interval</th>\n",
       "      <th>Whisker high</th>\n",
       "      <th>Whisker low</th>\n",
       "    </tr>\n",
       "  </thead>\n",
       "  <tbody>\n",
       "    <tr>\n",
       "      <th>255</th>\n",
       "      <td>SOMALILAND REGION</td>\n",
       "      <td>SUB-SAHARAN AFRICA</td>\n",
       "      <td>97</td>\n",
       "      <td>5.057</td>\n",
       "      <td>NaN</td>\n",
       "      <td>0.25558</td>\n",
       "      <td>0.75862</td>\n",
       "      <td>0.33108</td>\n",
       "      <td>0.3913</td>\n",
       "      <td>0.36794</td>\n",
       "      <td>0.51479</td>\n",
       "      <td>2.43801</td>\n",
       "      <td>2016</td>\n",
       "      <td>4.934</td>\n",
       "      <td>5.18</td>\n",
       "      <td>NaN</td>\n",
       "      <td>NaN</td>\n",
       "    </tr>\n",
       "  </tbody>\n",
       "</table>\n",
       "</div>"
      ],
      "text/plain": [
       "               Country              Region  Happiness Rank  Happiness Score  \\\n",
       "255  SOMALILAND REGION  SUB-SAHARAN AFRICA              97            5.057   \n",
       "\n",
       "     Standard Error  Economy (GDP per Capita)   Family  \\\n",
       "255             NaN                   0.25558  0.75862   \n",
       "\n",
       "     Health (Life Expectancy)  Freedom  Trust (Government Corruption)  \\\n",
       "255                   0.33108   0.3913                        0.36794   \n",
       "\n",
       "     Generosity  Dystopia Residual  Year  Lower Confidence Interval  \\\n",
       "255     0.51479            2.43801  2016                      4.934   \n",
       "\n",
       "     Upper Confidence Interval  Whisker high  Whisker low  \n",
       "255                       5.18           NaN          NaN  "
      ]
     },
     "execution_count": 10,
     "metadata": {},
     "output_type": "execute_result"
    }
   ],
   "source": [
    "df[df.duplicated(subset = ['Country' , ('Year')])]"
   ]
  },
  {
   "cell_type": "code",
   "execution_count": 11,
   "id": "12400158",
   "metadata": {},
   "outputs": [],
   "source": [
    "df.drop_duplicates(subset = ['Year' , 'Country'] , inplace = True)"
   ]
  },
  {
   "cell_type": "code",
   "execution_count": 12,
   "id": "25722e33",
   "metadata": {},
   "outputs": [
    {
     "name": "stdout",
     "output_type": "stream",
     "text": [
      "Is there any duplicate value? False\n"
     ]
    }
   ],
   "source": [
    "print('Is there any duplicate value?' , df.duplicated(subset = ['Country' , ('Year')]).any())"
   ]
  },
  {
   "cell_type": "markdown",
   "id": "79b00969",
   "metadata": {},
   "source": [
    "`We can see that there is no duplicate value left in the dataset `"
   ]
  },
  {
   "cell_type": "markdown",
   "id": "2deb09c4",
   "metadata": {},
   "source": [
    "## Handling Null / Missing Values"
   ]
  },
  {
   "cell_type": "code",
   "execution_count": 13,
   "id": "47002847",
   "metadata": {},
   "outputs": [
    {
     "name": "stdout",
     "output_type": "stream",
     "text": [
      "Is there any Null value? True\n"
     ]
    }
   ],
   "source": [
    "print('Is there any Null value?' , df.isnull().sum().any())"
   ]
  },
  {
   "cell_type": "code",
   "execution_count": 14,
   "id": "5690845d",
   "metadata": {},
   "outputs": [
    {
     "data": {
      "image/png": "[encoded data removed]",
      "text/plain": [
       "<Figure size 640x480 with 1 Axes>"
      ]
     },
     "metadata": {},
     "output_type": "display_data"
    }
   ],
   "source": [
    "sns.heatmap(df.isnull() , cmap = 'crest' , cbar = False)\n",
    "plt.show()"
   ]
  },
  {
   "cell_type": "markdown",
   "id": "ffac12aa",
   "metadata": {},
   "source": [
    "`We can see that there are many null values in 'Country', 'Region', 'Standard Error', 'Family', 'Lower Conf Interval', 'Upper Conf Interval' columns`"
   ]
  },
  {
   "cell_type": "markdown",
   "id": "26dd19c6",
   "metadata": {},
   "source": [
    "#### Finding Null values percentage \n"
   ]
  },
  {
   "cell_type": "code",
   "execution_count": 15,
   "id": "1c01b5c3",
   "metadata": {},
   "outputs": [
    {
     "data": {
      "text/plain": [
       "Whisker low                      67.451820\n",
       "Whisker high                     67.451820\n",
       "Upper Confidence Interval        66.381156\n",
       "Lower Confidence Interval        66.381156\n",
       "Standard Error                   66.167024\n",
       "Region                           32.548180\n",
       "Family                           10.492505\n",
       "Country                           1.070664\n",
       "Health (Life Expectancy)          0.000000\n",
       "Trust (Government Corruption)     0.000000\n",
       "Generosity                        0.000000\n",
       "Dystopia Residual                 0.000000\n",
       "Year                              0.000000\n",
       "Economy (GDP per Capita)          0.000000\n",
       "Happiness Score                   0.000000\n",
       "Happiness Rank                    0.000000\n",
       "Freedom                           0.000000\n",
       "dtype: float64"
      ]
     },
     "execution_count": 15,
     "metadata": {},
     "output_type": "execute_result"
    }
   ],
   "source": [
    "null_perc = (df.isnull().mean() * 100).sort_values(ascending = False)\n",
    "null_perc"
   ]
  },
  {
   "cell_type": "markdown",
   "id": "fedb4d85",
   "metadata": {},
   "source": [
    "`Dropping columns having high perc of null values`"
   ]
  },
  {
   "cell_type": "code",
   "execution_count": 16,
   "id": "7b6398d8",
   "metadata": {},
   "outputs": [
    {
     "data": {
      "text/plain": [
       "Index(['Whisker low', 'Whisker high', 'Upper Confidence Interval',\n",
       "       'Lower Confidence Interval', 'Standard Error'],\n",
       "      dtype='object')"
      ]
     },
     "execution_count": 16,
     "metadata": {},
     "output_type": "execute_result"
    }
   ],
   "source": [
    "null_perc.index[:5]"
   ]
  },
  {
   "cell_type": "code",
   "execution_count": 17,
   "id": "752c8a38",
   "metadata": {},
   "outputs": [],
   "source": [
    "df.drop(null_perc.index[:5], axis = 1 , inplace  = True)"
   ]
  },
  {
   "cell_type": "markdown",
   "id": "bbdc2cb3",
   "metadata": {},
   "source": [
    "#### Checking columns with lower percentage of missingness"
   ]
  },
  {
   "cell_type": "code",
   "execution_count": 18,
   "id": "a21944ba",
   "metadata": {},
   "outputs": [
    {
     "data": {
      "text/plain": [
       "Region                           152\n",
       "Family                            49\n",
       "Country                            5\n",
       "Happiness Rank                     0\n",
       "Happiness Score                    0\n",
       "Economy (GDP per Capita)           0\n",
       "Health (Life Expectancy)           0\n",
       "Freedom                            0\n",
       "Trust (Government Corruption)      0\n",
       "Generosity                         0\n",
       "Dystopia Residual                  0\n",
       "Year                               0\n",
       "dtype: int64"
      ]
     },
     "execution_count": 18,
     "metadata": {},
     "output_type": "execute_result"
    }
   ],
   "source": [
    "df.isnull().sum().sort_values(ascending = False)"
   ]
  },
  {
   "cell_type": "markdown",
   "id": "0a1bba40",
   "metadata": {},
   "source": [
    "### Dealing with Categorical Values"
   ]
  },
  {
   "cell_type": "markdown",
   "id": "ea39587b",
   "metadata": {},
   "source": [
    "#### Target column: 'Country'"
   ]
  },
  {
   "cell_type": "code",
   "execution_count": 19,
   "id": "485a2f48",
   "metadata": {},
   "outputs": [
    {
     "data": {
      "text/html": [
       "<div>\n",
       "<style scoped>\n",
       "    .dataframe tbody tr th:only-of-type {\n",
       "        vertical-align: middle;\n",
       "    }\n",
       "\n",
       "    .dataframe tbody tr th {\n",
       "        vertical-align: top;\n",
       "    }\n",
       "\n",
       "    .dataframe thead th {\n",
       "        text-align: right;\n",
       "    }\n",
       "</style>\n",
       "<table border=\"1\" class=\"dataframe\">\n",
       "  <thead>\n",
       "    <tr style=\"text-align: right;\">\n",
       "      <th></th>\n",
       "      <th>Country</th>\n",
       "      <th>Region</th>\n",
       "      <th>Happiness Rank</th>\n",
       "      <th>Happiness Score</th>\n",
       "      <th>Economy (GDP per Capita)</th>\n",
       "      <th>Family</th>\n",
       "      <th>Health (Life Expectancy)</th>\n",
       "      <th>Freedom</th>\n",
       "      <th>Trust (Government Corruption)</th>\n",
       "      <th>Generosity</th>\n",
       "      <th>Dystopia Residual</th>\n",
       "      <th>Year</th>\n",
       "    </tr>\n",
       "  </thead>\n",
       "  <tbody>\n",
       "    <tr>\n",
       "      <th>162</th>\n",
       "      <td>NaN</td>\n",
       "      <td>Western Europe</td>\n",
       "      <td>5</td>\n",
       "      <td>7.413</td>\n",
       "      <td>1.40598</td>\n",
       "      <td>1.13464</td>\n",
       "      <td>0.81091</td>\n",
       "      <td>0.57104</td>\n",
       "      <td>0.41004</td>\n",
       "      <td>0.25492</td>\n",
       "      <td>2.82596</td>\n",
       "      <td>0</td>\n",
       "    </tr>\n",
       "    <tr>\n",
       "      <th>163</th>\n",
       "      <td>NaN</td>\n",
       "      <td>Western Europe</td>\n",
       "      <td>6</td>\n",
       "      <td>7.404</td>\n",
       "      <td>1.44015</td>\n",
       "      <td>1.09610</td>\n",
       "      <td>0.82760</td>\n",
       "      <td>0.57370</td>\n",
       "      <td>0.31329</td>\n",
       "      <td>0.44834</td>\n",
       "      <td>2.70485</td>\n",
       "      <td>1</td>\n",
       "    </tr>\n",
       "    <tr>\n",
       "      <th>177</th>\n",
       "      <td>NaN</td>\n",
       "      <td>Latin America and Caribbean</td>\n",
       "      <td>20</td>\n",
       "      <td>6.871</td>\n",
       "      <td>1.69752</td>\n",
       "      <td>1.03999</td>\n",
       "      <td>0.84542</td>\n",
       "      <td>0.54870</td>\n",
       "      <td>0.35329</td>\n",
       "      <td>0.27571</td>\n",
       "      <td>2.11055</td>\n",
       "      <td>2</td>\n",
       "    </tr>\n",
       "    <tr>\n",
       "      <th>195</th>\n",
       "      <td>NaN</td>\n",
       "      <td>Middle East and Northern Africa</td>\n",
       "      <td>38</td>\n",
       "      <td>6.355</td>\n",
       "      <td>1.05266</td>\n",
       "      <td>0.83309</td>\n",
       "      <td>0.61804</td>\n",
       "      <td>0.21006</td>\n",
       "      <td>0.16157</td>\n",
       "      <td>0.07044</td>\n",
       "      <td>3.40904</td>\n",
       "      <td>3</td>\n",
       "    </tr>\n",
       "    <tr>\n",
       "      <th>203</th>\n",
       "      <td>NaN</td>\n",
       "      <td>Central and Eastern Europe</td>\n",
       "      <td>46</td>\n",
       "      <td>6.068</td>\n",
       "      <td>0.87370</td>\n",
       "      <td>0.80975</td>\n",
       "      <td>0.59600</td>\n",
       "      <td>0.37269</td>\n",
       "      <td>0.10613</td>\n",
       "      <td>0.08877</td>\n",
       "      <td>3.22134</td>\n",
       "      <td>4</td>\n",
       "    </tr>\n",
       "  </tbody>\n",
       "</table>\n",
       "</div>"
      ],
      "text/plain": [
       "    Country                           Region  Happiness Rank  Happiness Score  \\\n",
       "162     NaN                   Western Europe               5            7.413   \n",
       "163     NaN                   Western Europe               6            7.404   \n",
       "177     NaN      Latin America and Caribbean              20            6.871   \n",
       "195     NaN  Middle East and Northern Africa              38            6.355   \n",
       "203     NaN       Central and Eastern Europe              46            6.068   \n",
       "\n",
       "     Economy (GDP per Capita)   Family  Health (Life Expectancy)  Freedom  \\\n",
       "162                   1.40598  1.13464                   0.81091  0.57104   \n",
       "163                   1.44015  1.09610                   0.82760  0.57370   \n",
       "177                   1.69752  1.03999                   0.84542  0.54870   \n",
       "195                   1.05266  0.83309                   0.61804  0.21006   \n",
       "203                   0.87370  0.80975                   0.59600  0.37269   \n",
       "\n",
       "     Trust (Government Corruption)  Generosity  Dystopia Residual  Year  \n",
       "162                        0.41004     0.25492            2.82596     0  \n",
       "163                        0.31329     0.44834            2.70485     1  \n",
       "177                        0.35329     0.27571            2.11055     2  \n",
       "195                        0.16157     0.07044            3.40904     3  \n",
       "203                        0.10613     0.08877            3.22134     4  "
      ]
     },
     "execution_count": 19,
     "metadata": {},
     "output_type": "execute_result"
    }
   ],
   "source": [
    "df[df['Country'].isnull()]"
   ]
  },
  {
   "cell_type": "markdown",
   "id": "03cdccdc",
   "metadata": {},
   "source": [
    "`We can see that above shown rows have missing data in 'Country' column `\n",
    "\n",
    "`Dropping those rows`"
   ]
  },
  {
   "cell_type": "code",
   "execution_count": 20,
   "id": "80048776",
   "metadata": {},
   "outputs": [],
   "source": [
    "df.dropna(subset = ['Country'] , how = 'any' , inplace = True)"
   ]
  },
  {
   "cell_type": "markdown",
   "id": "c7539b59",
   "metadata": {},
   "source": [
    "`Dropping row disturbs indexing so we are reseting index number`"
   ]
  },
  {
   "cell_type": "code",
   "execution_count": 21,
   "id": "ac1e018f",
   "metadata": {},
   "outputs": [],
   "source": [
    "df.reset_index(drop = True , inplace = True)"
   ]
  },
  {
   "cell_type": "markdown",
   "id": "0eea23cd",
   "metadata": {},
   "source": [
    "#### Target column: 'Region'"
   ]
  },
  {
   "cell_type": "code",
   "execution_count": 22,
   "id": "a00472cc",
   "metadata": {},
   "outputs": [
    {
     "data": {
      "text/html": [
       "<div>\n",
       "<style scoped>\n",
       "    .dataframe tbody tr th:only-of-type {\n",
       "        vertical-align: middle;\n",
       "    }\n",
       "\n",
       "    .dataframe tbody tr th {\n",
       "        vertical-align: top;\n",
       "    }\n",
       "\n",
       "    .dataframe thead th {\n",
       "        text-align: right;\n",
       "    }\n",
       "</style>\n",
       "<table border=\"1\" class=\"dataframe\">\n",
       "  <thead>\n",
       "    <tr style=\"text-align: right;\">\n",
       "      <th></th>\n",
       "      <th>Country</th>\n",
       "      <th>Region</th>\n",
       "      <th>Happiness Rank</th>\n",
       "      <th>Happiness Score</th>\n",
       "      <th>Economy (GDP per Capita)</th>\n",
       "      <th>Family</th>\n",
       "      <th>Health (Life Expectancy)</th>\n",
       "      <th>Freedom</th>\n",
       "      <th>Trust (Government Corruption)</th>\n",
       "      <th>Generosity</th>\n",
       "      <th>Dystopia Residual</th>\n",
       "      <th>Year</th>\n",
       "    </tr>\n",
       "  </thead>\n",
       "  <tbody>\n",
       "    <tr>\n",
       "      <th>310</th>\n",
       "      <td>NORWAY</td>\n",
       "      <td>NaN</td>\n",
       "      <td>1</td>\n",
       "      <td>7.537</td>\n",
       "      <td>1.616463</td>\n",
       "      <td>NaN</td>\n",
       "      <td>0.796667</td>\n",
       "      <td>0.635423</td>\n",
       "      <td>0.362012</td>\n",
       "      <td>0.315964</td>\n",
       "      <td>2.277027</td>\n",
       "      <td>2017</td>\n",
       "    </tr>\n",
       "    <tr>\n",
       "      <th>311</th>\n",
       "      <td>DENMARK</td>\n",
       "      <td>NaN</td>\n",
       "      <td>2</td>\n",
       "      <td>7.522</td>\n",
       "      <td>1.482383</td>\n",
       "      <td>NaN</td>\n",
       "      <td>0.792566</td>\n",
       "      <td>0.626007</td>\n",
       "      <td>0.355280</td>\n",
       "      <td>0.400770</td>\n",
       "      <td>2.313707</td>\n",
       "      <td>2017</td>\n",
       "    </tr>\n",
       "    <tr>\n",
       "      <th>312</th>\n",
       "      <td>ICELAND</td>\n",
       "      <td>NaN</td>\n",
       "      <td>3</td>\n",
       "      <td>7.504</td>\n",
       "      <td>1.480633</td>\n",
       "      <td>NaN</td>\n",
       "      <td>0.833552</td>\n",
       "      <td>0.627163</td>\n",
       "      <td>0.475540</td>\n",
       "      <td>0.153527</td>\n",
       "      <td>2.322715</td>\n",
       "      <td>2017</td>\n",
       "    </tr>\n",
       "    <tr>\n",
       "      <th>313</th>\n",
       "      <td>SWITZERLAND</td>\n",
       "      <td>NaN</td>\n",
       "      <td>4</td>\n",
       "      <td>7.494</td>\n",
       "      <td>1.564980</td>\n",
       "      <td>NaN</td>\n",
       "      <td>0.858131</td>\n",
       "      <td>0.620071</td>\n",
       "      <td>0.290549</td>\n",
       "      <td>0.367007</td>\n",
       "      <td>2.276716</td>\n",
       "      <td>2017</td>\n",
       "    </tr>\n",
       "    <tr>\n",
       "      <th>314</th>\n",
       "      <td>FINLAND</td>\n",
       "      <td>NaN</td>\n",
       "      <td>5</td>\n",
       "      <td>7.469</td>\n",
       "      <td>1.443572</td>\n",
       "      <td>NaN</td>\n",
       "      <td>0.809158</td>\n",
       "      <td>0.617951</td>\n",
       "      <td>0.245483</td>\n",
       "      <td>0.382612</td>\n",
       "      <td>2.430182</td>\n",
       "      <td>2017</td>\n",
       "    </tr>\n",
       "    <tr>\n",
       "      <th>...</th>\n",
       "      <td>...</td>\n",
       "      <td>...</td>\n",
       "      <td>...</td>\n",
       "      <td>...</td>\n",
       "      <td>...</td>\n",
       "      <td>...</td>\n",
       "      <td>...</td>\n",
       "      <td>...</td>\n",
       "      <td>...</td>\n",
       "      <td>...</td>\n",
       "      <td>...</td>\n",
       "      <td>...</td>\n",
       "    </tr>\n",
       "    <tr>\n",
       "      <th>457</th>\n",
       "      <td>LIBERIA</td>\n",
       "      <td>NaN</td>\n",
       "      <td>148</td>\n",
       "      <td>3.533</td>\n",
       "      <td>0.119042</td>\n",
       "      <td>0.872118</td>\n",
       "      <td>0.229918</td>\n",
       "      <td>0.332881</td>\n",
       "      <td>0.266550</td>\n",
       "      <td>0.038948</td>\n",
       "      <td>1.673286</td>\n",
       "      <td>2017</td>\n",
       "    </tr>\n",
       "    <tr>\n",
       "      <th>458</th>\n",
       "      <td>GUINEA</td>\n",
       "      <td>NaN</td>\n",
       "      <td>149</td>\n",
       "      <td>3.507</td>\n",
       "      <td>0.244550</td>\n",
       "      <td>0.791245</td>\n",
       "      <td>0.194129</td>\n",
       "      <td>0.348588</td>\n",
       "      <td>0.264815</td>\n",
       "      <td>0.110938</td>\n",
       "      <td>1.552312</td>\n",
       "      <td>2017</td>\n",
       "    </tr>\n",
       "    <tr>\n",
       "      <th>459</th>\n",
       "      <td>TOGO</td>\n",
       "      <td>NaN</td>\n",
       "      <td>150</td>\n",
       "      <td>3.495</td>\n",
       "      <td>0.305445</td>\n",
       "      <td>0.431883</td>\n",
       "      <td>0.247106</td>\n",
       "      <td>0.380426</td>\n",
       "      <td>0.196896</td>\n",
       "      <td>0.095665</td>\n",
       "      <td>1.837229</td>\n",
       "      <td>2017</td>\n",
       "    </tr>\n",
       "    <tr>\n",
       "      <th>460</th>\n",
       "      <td>RWANDA</td>\n",
       "      <td>NaN</td>\n",
       "      <td>151</td>\n",
       "      <td>3.471</td>\n",
       "      <td>0.368746</td>\n",
       "      <td>0.945707</td>\n",
       "      <td>0.326425</td>\n",
       "      <td>0.581844</td>\n",
       "      <td>0.252756</td>\n",
       "      <td>0.455220</td>\n",
       "      <td>0.540061</td>\n",
       "      <td>2017</td>\n",
       "    </tr>\n",
       "    <tr>\n",
       "      <th>461</th>\n",
       "      <td>SYRIA</td>\n",
       "      <td>NaN</td>\n",
       "      <td>152</td>\n",
       "      <td>3.462</td>\n",
       "      <td>0.777153</td>\n",
       "      <td>0.396103</td>\n",
       "      <td>0.500533</td>\n",
       "      <td>0.081539</td>\n",
       "      <td>0.493664</td>\n",
       "      <td>0.151347</td>\n",
       "      <td>1.061574</td>\n",
       "      <td>2017</td>\n",
       "    </tr>\n",
       "  </tbody>\n",
       "</table>\n",
       "<p>152 rows × 12 columns</p>\n",
       "</div>"
      ],
      "text/plain": [
       "         Country Region  Happiness Rank  Happiness Score  \\\n",
       "310       NORWAY    NaN               1            7.537   \n",
       "311      DENMARK    NaN               2            7.522   \n",
       "312      ICELAND    NaN               3            7.504   \n",
       "313  SWITZERLAND    NaN               4            7.494   \n",
       "314      FINLAND    NaN               5            7.469   \n",
       "..           ...    ...             ...              ...   \n",
       "457      LIBERIA    NaN             148            3.533   \n",
       "458       GUINEA    NaN             149            3.507   \n",
       "459         TOGO    NaN             150            3.495   \n",
       "460       RWANDA    NaN             151            3.471   \n",
       "461        SYRIA    NaN             152            3.462   \n",
       "\n",
       "     Economy (GDP per Capita)    Family  Health (Life Expectancy)   Freedom  \\\n",
       "310                  1.616463       NaN                  0.796667  0.635423   \n",
       "311                  1.482383       NaN                  0.792566  0.626007   \n",
       "312                  1.480633       NaN                  0.833552  0.627163   \n",
       "313                  1.564980       NaN                  0.858131  0.620071   \n",
       "314                  1.443572       NaN                  0.809158  0.617951   \n",
       "..                        ...       ...                       ...       ...   \n",
       "457                  0.119042  0.872118                  0.229918  0.332881   \n",
       "458                  0.244550  0.791245                  0.194129  0.348588   \n",
       "459                  0.305445  0.431883                  0.247106  0.380426   \n",
       "460                  0.368746  0.945707                  0.326425  0.581844   \n",
       "461                  0.777153  0.396103                  0.500533  0.081539   \n",
       "\n",
       "     Trust (Government Corruption)  Generosity  Dystopia Residual  Year  \n",
       "310                       0.362012    0.315964           2.277027  2017  \n",
       "311                       0.355280    0.400770           2.313707  2017  \n",
       "312                       0.475540    0.153527           2.322715  2017  \n",
       "313                       0.290549    0.367007           2.276716  2017  \n",
       "314                       0.245483    0.382612           2.430182  2017  \n",
       "..                             ...         ...                ...   ...  \n",
       "457                       0.266550    0.038948           1.673286  2017  \n",
       "458                       0.264815    0.110938           1.552312  2017  \n",
       "459                       0.196896    0.095665           1.837229  2017  \n",
       "460                       0.252756    0.455220           0.540061  2017  \n",
       "461                       0.493664    0.151347           1.061574  2017  \n",
       "\n",
       "[152 rows x 12 columns]"
      ]
     },
     "execution_count": 22,
     "metadata": {},
     "output_type": "execute_result"
    }
   ],
   "source": [
    "df[df['Region'].isnull()]"
   ]
  },
  {
   "cell_type": "markdown",
   "id": "21435ec9",
   "metadata": {},
   "source": [
    "`There are 152 rows having 'NaN' values in the dataset.`\n",
    "\n",
    "`Lets impute them with appropriate regions.`"
   ]
  },
  {
   "cell_type": "code",
   "execution_count": 23,
   "id": "0f2c1889",
   "metadata": {},
   "outputs": [],
   "source": [
    "df2 = pd.read_csv('region.csv')"
   ]
  },
  {
   "cell_type": "code",
   "execution_count": 24,
   "id": "0a1f043b",
   "metadata": {},
   "outputs": [
    {
     "data": {
      "text/html": [
       "<div>\n",
       "<style scoped>\n",
       "    .dataframe tbody tr th:only-of-type {\n",
       "        vertical-align: middle;\n",
       "    }\n",
       "\n",
       "    .dataframe tbody tr th {\n",
       "        vertical-align: top;\n",
       "    }\n",
       "\n",
       "    .dataframe thead th {\n",
       "        text-align: right;\n",
       "    }\n",
       "</style>\n",
       "<table border=\"1\" class=\"dataframe\">\n",
       "  <thead>\n",
       "    <tr style=\"text-align: right;\">\n",
       "      <th></th>\n",
       "      <th>Country</th>\n",
       "      <th>Region</th>\n",
       "    </tr>\n",
       "  </thead>\n",
       "  <tbody>\n",
       "    <tr>\n",
       "      <th>0</th>\n",
       "      <td>SWITZERLAND</td>\n",
       "      <td>Western Europe</td>\n",
       "    </tr>\n",
       "    <tr>\n",
       "      <th>1</th>\n",
       "      <td>ICELAND</td>\n",
       "      <td>Western Europe</td>\n",
       "    </tr>\n",
       "    <tr>\n",
       "      <th>2</th>\n",
       "      <td>DENMARK</td>\n",
       "      <td>Western Europe</td>\n",
       "    </tr>\n",
       "    <tr>\n",
       "      <th>3</th>\n",
       "      <td>NORWAY</td>\n",
       "      <td>Western Europe</td>\n",
       "    </tr>\n",
       "    <tr>\n",
       "      <th>4</th>\n",
       "      <td>CANADA</td>\n",
       "      <td>North America</td>\n",
       "    </tr>\n",
       "  </tbody>\n",
       "</table>\n",
       "</div>"
      ],
      "text/plain": [
       "       Country          Region\n",
       "0  SWITZERLAND  Western Europe\n",
       "1      ICELAND  Western Europe\n",
       "2      DENMARK  Western Europe\n",
       "3       NORWAY  Western Europe\n",
       "4       CANADA   North America"
      ]
     },
     "execution_count": 24,
     "metadata": {},
     "output_type": "execute_result"
    }
   ],
   "source": [
    "df2.head()"
   ]
  },
  {
   "cell_type": "code",
   "execution_count": 25,
   "id": "265ed2b8",
   "metadata": {
    "scrolled": true
   },
   "outputs": [],
   "source": [
    "left_table = df['Country']\n",
    "right_table = df2 "
   ]
  },
  {
   "cell_type": "code",
   "execution_count": 26,
   "id": "a8a6dc0d",
   "metadata": {},
   "outputs": [
    {
     "data": {
      "text/html": [
       "<div>\n",
       "<style scoped>\n",
       "    .dataframe tbody tr th:only-of-type {\n",
       "        vertical-align: middle;\n",
       "    }\n",
       "\n",
       "    .dataframe tbody tr th {\n",
       "        vertical-align: top;\n",
       "    }\n",
       "\n",
       "    .dataframe thead th {\n",
       "        text-align: right;\n",
       "    }\n",
       "</style>\n",
       "<table border=\"1\" class=\"dataframe\">\n",
       "  <thead>\n",
       "    <tr style=\"text-align: right;\">\n",
       "      <th></th>\n",
       "      <th>Country</th>\n",
       "      <th>Region</th>\n",
       "    </tr>\n",
       "  </thead>\n",
       "  <tbody>\n",
       "    <tr>\n",
       "      <th>0</th>\n",
       "      <td>SWITZERLAND</td>\n",
       "      <td>Western Europe</td>\n",
       "    </tr>\n",
       "    <tr>\n",
       "      <th>1</th>\n",
       "      <td>SWITZERLAND</td>\n",
       "      <td>Western Europe</td>\n",
       "    </tr>\n",
       "    <tr>\n",
       "      <th>2</th>\n",
       "      <td>SWITZERLAND</td>\n",
       "      <td>Western Europe</td>\n",
       "    </tr>\n",
       "    <tr>\n",
       "      <th>3</th>\n",
       "      <td>ICELAND</td>\n",
       "      <td>Western Europe</td>\n",
       "    </tr>\n",
       "    <tr>\n",
       "      <th>4</th>\n",
       "      <td>ICELAND</td>\n",
       "      <td>Western Europe</td>\n",
       "    </tr>\n",
       "    <tr>\n",
       "      <th>...</th>\n",
       "      <td>...</td>\n",
       "      <td>...</td>\n",
       "    </tr>\n",
       "    <tr>\n",
       "      <th>459</th>\n",
       "      <td>SOMALIA</td>\n",
       "      <td>Sub-Saharan Africa</td>\n",
       "    </tr>\n",
       "    <tr>\n",
       "      <th>460</th>\n",
       "      <td>NAMIBIA</td>\n",
       "      <td>Sub-Saharan Africa</td>\n",
       "    </tr>\n",
       "    <tr>\n",
       "      <th>461</th>\n",
       "      <td>NAMIBIA</td>\n",
       "      <td>Sub-Saharan Africa</td>\n",
       "    </tr>\n",
       "    <tr>\n",
       "      <th>462</th>\n",
       "      <td>SOUTH SUDAN</td>\n",
       "      <td>Sub-Saharan Africa</td>\n",
       "    </tr>\n",
       "    <tr>\n",
       "      <th>463</th>\n",
       "      <td>SOUTH SUDAN</td>\n",
       "      <td>Sub-Saharan Africa</td>\n",
       "    </tr>\n",
       "  </tbody>\n",
       "</table>\n",
       "<p>464 rows × 2 columns</p>\n",
       "</div>"
      ],
      "text/plain": [
       "         Country              Region\n",
       "0    SWITZERLAND      Western Europe\n",
       "1    SWITZERLAND      Western Europe\n",
       "2    SWITZERLAND      Western Europe\n",
       "3        ICELAND      Western Europe\n",
       "4        ICELAND      Western Europe\n",
       "..           ...                 ...\n",
       "459      SOMALIA  Sub-Saharan Africa\n",
       "460      NAMIBIA  Sub-Saharan Africa\n",
       "461      NAMIBIA  Sub-Saharan Africa\n",
       "462  SOUTH SUDAN  Sub-Saharan Africa\n",
       "463  SOUTH SUDAN  Sub-Saharan Africa\n",
       "\n",
       "[464 rows x 2 columns]"
      ]
     },
     "execution_count": 26,
     "metadata": {},
     "output_type": "execute_result"
    }
   ],
   "source": [
    "pd.merge(left = left_table , right = right_table, on = 'Country' , how = 'inner')"
   ]
  },
  {
   "cell_type": "code",
   "execution_count": 27,
   "id": "d8942c04",
   "metadata": {},
   "outputs": [
    {
     "data": {
      "text/plain": [
       "0          Western Europe\n",
       "1          Western Europe\n",
       "2          Western Europe\n",
       "3          Western Europe\n",
       "4          Western Europe\n",
       "              ...        \n",
       "459    Sub-Saharan Africa\n",
       "460    Sub-Saharan Africa\n",
       "461    Sub-Saharan Africa\n",
       "462    Sub-Saharan Africa\n",
       "463    Sub-Saharan Africa\n",
       "Name: Region, Length: 464, dtype: object"
      ]
     },
     "execution_count": 27,
     "metadata": {},
     "output_type": "execute_result"
    }
   ],
   "source": [
    "region = pd.merge(left = left_table , right = right_table, \\\n",
    "                  on = 'Country' , how = 'inner')['Region']\n",
    "\n",
    "region"
   ]
  },
  {
   "cell_type": "code",
   "execution_count": 28,
   "id": "44175994",
   "metadata": {},
   "outputs": [
    {
     "data": {
      "text/plain": [
       "0                   Western Europe\n",
       "1                   Western Europe\n",
       "2                   Western Europe\n",
       "3                   Western Europe\n",
       "4                   Western Europe\n",
       "                  ...             \n",
       "457    Latin America and Caribbean\n",
       "458             Sub-Saharan Africa\n",
       "459             Sub-Saharan Africa\n",
       "460             Sub-Saharan Africa\n",
       "461             Sub-Saharan Africa\n",
       "Name: Region, Length: 462, dtype: object"
      ]
     },
     "execution_count": 28,
     "metadata": {},
     "output_type": "execute_result"
    }
   ],
   "source": [
    "df['Region'] = region\n",
    "df['Region'] "
   ]
  },
  {
   "cell_type": "code",
   "execution_count": 29,
   "id": "21fe6d0e",
   "metadata": {},
   "outputs": [
    {
     "data": {
      "text/plain": [
       "Family                           49\n",
       "Country                           0\n",
       "Region                            0\n",
       "Happiness Rank                    0\n",
       "Happiness Score                   0\n",
       "Economy (GDP per Capita)          0\n",
       "Health (Life Expectancy)          0\n",
       "Freedom                           0\n",
       "Trust (Government Corruption)     0\n",
       "Generosity                        0\n",
       "Dystopia Residual                 0\n",
       "Year                              0\n",
       "dtype: int64"
      ]
     },
     "execution_count": 29,
     "metadata": {},
     "output_type": "execute_result"
    }
   ],
   "source": [
    "df.isnull().sum().sort_values(ascending = False)"
   ]
  },
  {
   "cell_type": "markdown",
   "id": "b30a98c4",
   "metadata": {},
   "source": [
    "`There is no null value left in 'Country' , 'Region' Column.`"
   ]
  },
  {
   "cell_type": "markdown",
   "id": "eebefdb9",
   "metadata": {},
   "source": [
    "### Now, Dealing with Numerical Values"
   ]
  },
  {
   "cell_type": "markdown",
   "id": "d79d6070",
   "metadata": {},
   "source": [
    "#### Target Column: 'Family'"
   ]
  },
  {
   "cell_type": "markdown",
   "id": "1f703f1c",
   "metadata": {},
   "source": [
    "##### Finding skewness Co efficient"
   ]
  },
  {
   "cell_type": "code",
   "execution_count": 30,
   "id": "22c06e2d",
   "metadata": {},
   "outputs": [
    {
     "data": {
      "text/plain": [
       "-0.575432431765158"
      ]
     },
     "execution_count": 30,
     "metadata": {},
     "output_type": "execute_result"
    }
   ],
   "source": [
    "df['Family'].skew()"
   ]
  },
  {
   "cell_type": "markdown",
   "id": "d0ec097b",
   "metadata": {},
   "source": [
    "##### Checking skewness by Graph"
   ]
  },
  {
   "cell_type": "code",
   "execution_count": 31,
   "id": "cbb0f09a",
   "metadata": {},
   "outputs": [
    {
     "data": {
      "image/png": "[encoded data removed]",
      "text/plain": [
       "<Figure size 640x480 with 1 Axes>"
      ]
     },
     "metadata": {},
     "output_type": "display_data"
    }
   ],
   "source": [
    "sns.kdeplot(df['Family'] , \\\n",
    "           fill = True)\n",
    "\n",
    "plt.show()"
   ]
  },
  {
   "cell_type": "markdown",
   "id": "54e4d2e5",
   "metadata": {},
   "source": [
    "`we can see that the distribution of values is approximately normal,`\n",
    "\n",
    "`so we are imputing missing values with a mean value.`"
   ]
  },
  {
   "cell_type": "code",
   "execution_count": 32,
   "id": "75c2cd34",
   "metadata": {},
   "outputs": [
    {
     "data": {
      "text/plain": [
       "0.9910465390024213"
      ]
     },
     "execution_count": 32,
     "metadata": {},
     "output_type": "execute_result"
    }
   ],
   "source": [
    "fam_mean = df['Family'].mean()\n",
    "fam_mean"
   ]
  },
  {
   "cell_type": "code",
   "execution_count": 33,
   "id": "a49f7508",
   "metadata": {},
   "outputs": [
    {
     "data": {
      "text/plain": [
       "0      1.349510\n",
       "1      1.402230\n",
       "2      1.360580\n",
       "3      1.330950\n",
       "4      1.322610\n",
       "         ...   \n",
       "457    0.872118\n",
       "458    0.791245\n",
       "459    0.431883\n",
       "460    0.945707\n",
       "461    0.396103\n",
       "Name: Family, Length: 462, dtype: float64"
      ]
     },
     "execution_count": 33,
     "metadata": {},
     "output_type": "execute_result"
    }
   ],
   "source": [
    "df['Family'] = df['Family'].fillna(df['Family'].skew())\n",
    "df['Family']"
   ]
  },
  {
   "cell_type": "code",
   "execution_count": 34,
   "id": "3dbd214d",
   "metadata": {},
   "outputs": [
    {
     "data": {
      "text/plain": [
       "Country                          0\n",
       "Region                           0\n",
       "Happiness Rank                   0\n",
       "Happiness Score                  0\n",
       "Economy (GDP per Capita)         0\n",
       "Family                           0\n",
       "Health (Life Expectancy)         0\n",
       "Freedom                          0\n",
       "Trust (Government Corruption)    0\n",
       "Generosity                       0\n",
       "Dystopia Residual                0\n",
       "Year                             0\n",
       "dtype: int64"
      ]
     },
     "execution_count": 34,
     "metadata": {},
     "output_type": "execute_result"
    }
   ],
   "source": [
    "df.isnull().sum().sort_values(ascending = False)"
   ]
  },
  {
   "cell_type": "markdown",
   "id": "7a42f0ff",
   "metadata": {},
   "source": [
    "`Now, when we look at our data, we can see that there are no missing or null values.`\n",
    "\n",
    "`This concludes the data preprocessing for World Happiness Datasets`"
   ]
  },
  {
   "cell_type": "code",
   "execution_count": null,
   "id": "9c9f3add",
   "metadata": {},
   "outputs": [],
   "source": []
  }
 ],
 "metadata": {
  "kernelspec": {
   "display_name": "Python 3 (ipykernel)",
   "language": "python",
   "name": "python3"
  },
  "language_info": {
   "codemirror_mode": {
    "name": "ipython",
    "version": 3
   },
   "file_extension": ".py",
   "mimetype": "text/x-python",
   "name": "python",
   "nbconvert_exporter": "python",
   "pygments_lexer": "ipython3",
   "version": "3.9.13"
  }
 },
 "nbformat": 4,
 "nbformat_minor": 5
}
